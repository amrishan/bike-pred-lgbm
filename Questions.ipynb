{
 "cells": [
  {
   "cell_type": "markdown",
   "metadata": {
    "colab_type": "text",
    "id": "x_BkOtqBIKQz"
   },
   "source": [
    "# Data Science Challenge"
   ]
  },
  {
   "cell_type": "code",
   "execution_count": 225,
   "metadata": {
    "colab": {},
    "colab_type": "code",
    "id": "U_VthdACIKQ6"
   },
   "outputs": [],
   "source": [
    "# If additional packages are needed that are not installed by default, uncomment the last two lines of this \n",
    "# cell and replace <package list> with a list of additional packages.\n",
    "# This will ensure the notebook has all the dependencies and works everywhere\n",
    "\n",
    "import sys\n",
    "import pandas as pd\n",
    "import numpy as np\n",
    "import os\n",
    "import seaborn as sns\n",
    "import lightgbm as lgb\n",
    "import re\n",
    "import matplotlib.pyplot as plt\n",
    "import shap\n",
    "from datetime import date\n",
    "import chart_studio.plotly as py\n",
    "import plotly.graph_objects as go\n",
    "\n",
    "from utils import *\n",
    "from sklearn.model_selection import train_test_split\n",
    "\n",
    "warnings.filterwarnings(\"ignore\", category=DeprecationWarning)\n",
    "%matplotlib inline\n",
    "\n",
    "#!{sys.executable} -m pip install <package list>"
   ]
  },
  {
   "cell_type": "code",
   "execution_count": 3,
   "metadata": {
    "colab": {},
    "colab_type": "code",
    "id": "VzGFUCCVIKRL"
   },
   "outputs": [],
   "source": [
    "#Libraries\n",
    "import pandas as pd\n",
    "pd.set_option(\"display.max_columns\", 101)"
   ]
  },
  {
   "cell_type": "markdown",
   "metadata": {
    "colab_type": "text",
    "id": "TZ23KNY8IKRT"
   },
   "source": [
    "## Data Description"
   ]
  },
  {
   "cell_type": "markdown",
   "metadata": {
    "colab_type": "text",
    "id": "jWSkqquEIKRW"
   },
   "source": [
    "Column | Description\n",
    ":---|:---\n",
    "`id` | Record index\n",
    "`timestamp` | Datetime (YYYY:MM:DD HH AM/PM)\n",
    "`season` | Season (spring, summer, fall, winter)\n",
    "`holiday` | Whether day is a holiday or not (Yes or No)\n",
    "`workingday` | Whether day is a working day or not (Yes or No)\n",
    "`weather`| Weather condition (Clear or partly cloudy, Mist, Light snow or rain, heavy rain/ice pellets/ snow + fog \n",
    "`temp`| Average temperature recorded for the hour ( in degree Celsius)\n",
    "`temp_feel`| Average feeling temperature recorded for the hour ( in degree Celsius)\n",
    "`hum`| Average humidity recorded for the hour (in %)\n",
    "`windspeed`| Average wind speed recorded for the hour (in miles/hour)\n",
    "`demand`| Hourly count of bikes rented"
   ]
  },
  {
   "cell_type": "markdown",
   "metadata": {
    "colab_type": "text",
    "id": "BWQqx7cSIKRX"
   },
   "source": [
    "## Data Wrangling & Visualization"
   ]
  },
  {
   "cell_type": "markdown",
   "metadata": {},
   "source": [
    "The dataset is already loaded below\n",
    "\n",
    "parsed timestamp columns with dtype timestamp\n",
    "\n",
    "set id as index\n",
    "\n",
    "Decomposed timestamp column into year, month, time of week etc"
   ]
  },
  {
   "cell_type": "code",
   "execution_count": 221,
   "metadata": {
    "colab": {},
    "colab_type": "code",
    "id": "SsjL7tf7IKRc"
   },
   "outputs": [],
   "source": [
    "\n",
    "df_train = (pd.read_csv('train.csv', parse_dates=['timestamp'])\n",
    "              .pipe(add_datepart, 'timestamp', drop=False, ret=True)\n",
    "              .set_index('id'))"
   ]
  },
  {
   "cell_type": "code",
   "execution_count": 222,
   "metadata": {},
   "outputs": [],
   "source": [
    "df_test = (pd.read_csv('test.csv', parse_dates=['timestamp'])\n",
    "            .pipe(add_datepart, 'timestamp', drop=False, ret=True)\n",
    "            .set_index('id'))"
   ]
  },
  {
   "cell_type": "markdown",
   "metadata": {},
   "source": [
    "## Data Sample"
   ]
  },
  {
   "cell_type": "code",
   "execution_count": 155,
   "metadata": {
    "colab": {},
    "colab_type": "code",
    "id": "kzuHtZEkIKRh",
    "outputId": "9d14832c-2eda-48eb-df41-548113a94a73"
   },
   "outputs": [
    {
     "data": {
      "text/html": [
       "<div>\n",
       "<style scoped>\n",
       "    .dataframe tbody tr th:only-of-type {\n",
       "        vertical-align: middle;\n",
       "    }\n",
       "\n",
       "    .dataframe tbody tr th {\n",
       "        vertical-align: top;\n",
       "    }\n",
       "\n",
       "    .dataframe thead th {\n",
       "        text-align: right;\n",
       "    }\n",
       "</style>\n",
       "<table border=\"1\" class=\"dataframe\">\n",
       "  <thead>\n",
       "    <tr style=\"text-align: right;\">\n",
       "      <th></th>\n",
       "      <th>timestamp</th>\n",
       "      <th>season</th>\n",
       "      <th>holiday</th>\n",
       "      <th>workingday</th>\n",
       "      <th>weather</th>\n",
       "      <th>temp</th>\n",
       "      <th>temp_feel</th>\n",
       "      <th>humidity</th>\n",
       "      <th>windspeed</th>\n",
       "      <th>demand</th>\n",
       "      <th>timestampYear</th>\n",
       "      <th>timestampMonth</th>\n",
       "      <th>timestampWeek</th>\n",
       "      <th>timestampDay</th>\n",
       "      <th>timestampDayofweek</th>\n",
       "      <th>timestampDayofyear</th>\n",
       "      <th>timestampIs_month_end</th>\n",
       "      <th>timestampIs_month_start</th>\n",
       "      <th>timestampIs_quarter_end</th>\n",
       "      <th>timestampIs_quarter_start</th>\n",
       "      <th>timestampIs_year_end</th>\n",
       "      <th>timestampIs_year_start</th>\n",
       "      <th>timestampElapsed</th>\n",
       "    </tr>\n",
       "    <tr>\n",
       "      <th>id</th>\n",
       "      <th></th>\n",
       "      <th></th>\n",
       "      <th></th>\n",
       "      <th></th>\n",
       "      <th></th>\n",
       "      <th></th>\n",
       "      <th></th>\n",
       "      <th></th>\n",
       "      <th></th>\n",
       "      <th></th>\n",
       "      <th></th>\n",
       "      <th></th>\n",
       "      <th></th>\n",
       "      <th></th>\n",
       "      <th></th>\n",
       "      <th></th>\n",
       "      <th></th>\n",
       "      <th></th>\n",
       "      <th></th>\n",
       "      <th></th>\n",
       "      <th></th>\n",
       "      <th></th>\n",
       "      <th></th>\n",
       "    </tr>\n",
       "  </thead>\n",
       "  <tbody>\n",
       "    <tr>\n",
       "      <th>1</th>\n",
       "      <td>2017-01-01 00:00:00</td>\n",
       "      <td>spring</td>\n",
       "      <td>No</td>\n",
       "      <td>No</td>\n",
       "      <td>Clear or partly cloudy</td>\n",
       "      <td>9.84</td>\n",
       "      <td>14.395</td>\n",
       "      <td>81.0</td>\n",
       "      <td>0.0</td>\n",
       "      <td>2.772589</td>\n",
       "      <td>2017</td>\n",
       "      <td>1</td>\n",
       "      <td>52</td>\n",
       "      <td>1</td>\n",
       "      <td>6</td>\n",
       "      <td>1</td>\n",
       "      <td>False</td>\n",
       "      <td>True</td>\n",
       "      <td>False</td>\n",
       "      <td>True</td>\n",
       "      <td>False</td>\n",
       "      <td>True</td>\n",
       "      <td>1483228800</td>\n",
       "    </tr>\n",
       "    <tr>\n",
       "      <th>2</th>\n",
       "      <td>2017-01-01 01:00:00</td>\n",
       "      <td>spring</td>\n",
       "      <td>No</td>\n",
       "      <td>No</td>\n",
       "      <td>Clear or partly cloudy</td>\n",
       "      <td>9.02</td>\n",
       "      <td>13.635</td>\n",
       "      <td>80.0</td>\n",
       "      <td>0.0</td>\n",
       "      <td>3.688879</td>\n",
       "      <td>2017</td>\n",
       "      <td>1</td>\n",
       "      <td>52</td>\n",
       "      <td>1</td>\n",
       "      <td>6</td>\n",
       "      <td>1</td>\n",
       "      <td>False</td>\n",
       "      <td>True</td>\n",
       "      <td>False</td>\n",
       "      <td>True</td>\n",
       "      <td>False</td>\n",
       "      <td>True</td>\n",
       "      <td>1483232400</td>\n",
       "    </tr>\n",
       "    <tr>\n",
       "      <th>3</th>\n",
       "      <td>2017-01-01 02:00:00</td>\n",
       "      <td>spring</td>\n",
       "      <td>No</td>\n",
       "      <td>No</td>\n",
       "      <td>Clear or partly cloudy</td>\n",
       "      <td>9.02</td>\n",
       "      <td>13.635</td>\n",
       "      <td>80.0</td>\n",
       "      <td>0.0</td>\n",
       "      <td>3.465736</td>\n",
       "      <td>2017</td>\n",
       "      <td>1</td>\n",
       "      <td>52</td>\n",
       "      <td>1</td>\n",
       "      <td>6</td>\n",
       "      <td>1</td>\n",
       "      <td>False</td>\n",
       "      <td>True</td>\n",
       "      <td>False</td>\n",
       "      <td>True</td>\n",
       "      <td>False</td>\n",
       "      <td>True</td>\n",
       "      <td>1483236000</td>\n",
       "    </tr>\n",
       "    <tr>\n",
       "      <th>4</th>\n",
       "      <td>2017-01-01 03:00:00</td>\n",
       "      <td>spring</td>\n",
       "      <td>No</td>\n",
       "      <td>No</td>\n",
       "      <td>Clear or partly cloudy</td>\n",
       "      <td>9.84</td>\n",
       "      <td>14.395</td>\n",
       "      <td>75.0</td>\n",
       "      <td>0.0</td>\n",
       "      <td>2.564949</td>\n",
       "      <td>2017</td>\n",
       "      <td>1</td>\n",
       "      <td>52</td>\n",
       "      <td>1</td>\n",
       "      <td>6</td>\n",
       "      <td>1</td>\n",
       "      <td>False</td>\n",
       "      <td>True</td>\n",
       "      <td>False</td>\n",
       "      <td>True</td>\n",
       "      <td>False</td>\n",
       "      <td>True</td>\n",
       "      <td>1483239600</td>\n",
       "    </tr>\n",
       "    <tr>\n",
       "      <th>5</th>\n",
       "      <td>2017-01-01 04:00:00</td>\n",
       "      <td>spring</td>\n",
       "      <td>No</td>\n",
       "      <td>No</td>\n",
       "      <td>Clear or partly cloudy</td>\n",
       "      <td>9.84</td>\n",
       "      <td>14.395</td>\n",
       "      <td>75.0</td>\n",
       "      <td>0.0</td>\n",
       "      <td>0.000000</td>\n",
       "      <td>2017</td>\n",
       "      <td>1</td>\n",
       "      <td>52</td>\n",
       "      <td>1</td>\n",
       "      <td>6</td>\n",
       "      <td>1</td>\n",
       "      <td>False</td>\n",
       "      <td>True</td>\n",
       "      <td>False</td>\n",
       "      <td>True</td>\n",
       "      <td>False</td>\n",
       "      <td>True</td>\n",
       "      <td>1483243200</td>\n",
       "    </tr>\n",
       "  </tbody>\n",
       "</table>\n",
       "</div>"
      ],
      "text/plain": [
       "             timestamp  season holiday workingday                 weather  \\\n",
       "id                                                                          \n",
       "1  2017-01-01 00:00:00  spring      No         No  Clear or partly cloudy   \n",
       "2  2017-01-01 01:00:00  spring      No         No  Clear or partly cloudy   \n",
       "3  2017-01-01 02:00:00  spring      No         No  Clear or partly cloudy   \n",
       "4  2017-01-01 03:00:00  spring      No         No  Clear or partly cloudy   \n",
       "5  2017-01-01 04:00:00  spring      No         No  Clear or partly cloudy   \n",
       "\n",
       "    temp  temp_feel  humidity  windspeed    demand  timestampYear  \\\n",
       "id                                                                  \n",
       "1   9.84     14.395      81.0        0.0  2.772589           2017   \n",
       "2   9.02     13.635      80.0        0.0  3.688879           2017   \n",
       "3   9.02     13.635      80.0        0.0  3.465736           2017   \n",
       "4   9.84     14.395      75.0        0.0  2.564949           2017   \n",
       "5   9.84     14.395      75.0        0.0  0.000000           2017   \n",
       "\n",
       "    timestampMonth  timestampWeek  timestampDay  timestampDayofweek  \\\n",
       "id                                                                    \n",
       "1                1             52             1                   6   \n",
       "2                1             52             1                   6   \n",
       "3                1             52             1                   6   \n",
       "4                1             52             1                   6   \n",
       "5                1             52             1                   6   \n",
       "\n",
       "    timestampDayofyear  timestampIs_month_end  timestampIs_month_start  \\\n",
       "id                                                                       \n",
       "1                    1                  False                     True   \n",
       "2                    1                  False                     True   \n",
       "3                    1                  False                     True   \n",
       "4                    1                  False                     True   \n",
       "5                    1                  False                     True   \n",
       "\n",
       "    timestampIs_quarter_end  timestampIs_quarter_start  timestampIs_year_end  \\\n",
       "id                                                                             \n",
       "1                     False                       True                 False   \n",
       "2                     False                       True                 False   \n",
       "3                     False                       True                 False   \n",
       "4                     False                       True                 False   \n",
       "5                     False                       True                 False   \n",
       "\n",
       "    timestampIs_year_start  timestampElapsed  \n",
       "id                                            \n",
       "1                     True        1483228800  \n",
       "2                     True        1483232400  \n",
       "3                     True        1483236000  \n",
       "4                     True        1483239600  \n",
       "5                     True        1483243200  "
      ]
     },
     "execution_count": 155,
     "metadata": {},
     "output_type": "execute_result"
    }
   ],
   "source": [
    "df_train.head()"
   ]
  },
  {
   "cell_type": "markdown",
   "metadata": {},
   "source": [
    "## Data info"
   ]
  },
  {
   "cell_type": "code",
   "execution_count": 156,
   "metadata": {},
   "outputs": [
    {
     "name": "stdout",
     "output_type": "stream",
     "text": [
      "<class 'pandas.core.frame.DataFrame'>\n",
      "Int64Index: 8708 entries, 1 to 8708\n",
      "Data columns (total 23 columns):\n",
      " #   Column                     Non-Null Count  Dtype         \n",
      "---  ------                     --------------  -----         \n",
      " 0   timestamp                  8708 non-null   datetime64[ns]\n",
      " 1   season                     8708 non-null   object        \n",
      " 2   holiday                    8708 non-null   object        \n",
      " 3   workingday                 8708 non-null   object        \n",
      " 4   weather                    8708 non-null   object        \n",
      " 5   temp                       7506 non-null   float64       \n",
      " 6   temp_feel                  8606 non-null   float64       \n",
      " 7   humidity                   8669 non-null   float64       \n",
      " 8   windspeed                  8508 non-null   float64       \n",
      " 9   demand                     8708 non-null   float64       \n",
      " 10  timestampYear              8708 non-null   int64         \n",
      " 11  timestampMonth             8708 non-null   int64         \n",
      " 12  timestampWeek              8708 non-null   int64         \n",
      " 13  timestampDay               8708 non-null   int64         \n",
      " 14  timestampDayofweek         8708 non-null   int64         \n",
      " 15  timestampDayofyear         8708 non-null   int64         \n",
      " 16  timestampIs_month_end      8708 non-null   bool          \n",
      " 17  timestampIs_month_start    8708 non-null   bool          \n",
      " 18  timestampIs_quarter_end    8708 non-null   bool          \n",
      " 19  timestampIs_quarter_start  8708 non-null   bool          \n",
      " 20  timestampIs_year_end       8708 non-null   bool          \n",
      " 21  timestampIs_year_start     8708 non-null   bool          \n",
      " 22  timestampElapsed           8708 non-null   int64         \n",
      "dtypes: bool(6), datetime64[ns](1), float64(5), int64(7), object(4)\n",
      "memory usage: 1.2+ MB\n"
     ]
    }
   ],
   "source": [
    "df_train.info()"
   ]
  },
  {
   "cell_type": "markdown",
   "metadata": {},
   "source": [
    "## Describe Data"
   ]
  },
  {
   "cell_type": "code",
   "execution_count": 157,
   "metadata": {},
   "outputs": [
    {
     "data": {
      "text/html": [
       "<div>\n",
       "<style scoped>\n",
       "    .dataframe tbody tr th:only-of-type {\n",
       "        vertical-align: middle;\n",
       "    }\n",
       "\n",
       "    .dataframe tbody tr th {\n",
       "        vertical-align: top;\n",
       "    }\n",
       "\n",
       "    .dataframe thead th {\n",
       "        text-align: right;\n",
       "    }\n",
       "</style>\n",
       "<table border=\"1\" class=\"dataframe\">\n",
       "  <thead>\n",
       "    <tr style=\"text-align: right;\">\n",
       "      <th></th>\n",
       "      <th>count</th>\n",
       "      <th>unique</th>\n",
       "      <th>top</th>\n",
       "      <th>freq</th>\n",
       "      <th>mean</th>\n",
       "      <th>min</th>\n",
       "      <th>25%</th>\n",
       "      <th>50%</th>\n",
       "      <th>75%</th>\n",
       "      <th>max</th>\n",
       "      <th>std</th>\n",
       "    </tr>\n",
       "  </thead>\n",
       "  <tbody>\n",
       "    <tr>\n",
       "      <th>timestamp</th>\n",
       "      <td>8708</td>\n",
       "      <td>NaN</td>\n",
       "      <td>NaN</td>\n",
       "      <td>NaN</td>\n",
       "      <td>2017-10-15 00:59:03.362425600</td>\n",
       "      <td>2017-01-01 00:00:00</td>\n",
       "      <td>2017-05-17 14:45:00</td>\n",
       "      <td>2017-10-13 10:30:00</td>\n",
       "      <td>2018-03-09 08:15:00</td>\n",
       "      <td>2018-08-05 04:00:00</td>\n",
       "      <td>NaN</td>\n",
       "    </tr>\n",
       "    <tr>\n",
       "      <th>season</th>\n",
       "      <td>8708</td>\n",
       "      <td>4</td>\n",
       "      <td>summer</td>\n",
       "      <td>2733</td>\n",
       "      <td>NaN</td>\n",
       "      <td>NaN</td>\n",
       "      <td>NaN</td>\n",
       "      <td>NaN</td>\n",
       "      <td>NaN</td>\n",
       "      <td>NaN</td>\n",
       "      <td>NaN</td>\n",
       "    </tr>\n",
       "    <tr>\n",
       "      <th>holiday</th>\n",
       "      <td>8708</td>\n",
       "      <td>2</td>\n",
       "      <td>No</td>\n",
       "      <td>8469</td>\n",
       "      <td>NaN</td>\n",
       "      <td>NaN</td>\n",
       "      <td>NaN</td>\n",
       "      <td>NaN</td>\n",
       "      <td>NaN</td>\n",
       "      <td>NaN</td>\n",
       "      <td>NaN</td>\n",
       "    </tr>\n",
       "    <tr>\n",
       "      <th>workingday</th>\n",
       "      <td>8708</td>\n",
       "      <td>2</td>\n",
       "      <td>Yes</td>\n",
       "      <td>5949</td>\n",
       "      <td>NaN</td>\n",
       "      <td>NaN</td>\n",
       "      <td>NaN</td>\n",
       "      <td>NaN</td>\n",
       "      <td>NaN</td>\n",
       "      <td>NaN</td>\n",
       "      <td>NaN</td>\n",
       "    </tr>\n",
       "    <tr>\n",
       "      <th>weather</th>\n",
       "      <td>8708</td>\n",
       "      <td>4</td>\n",
       "      <td>Clear or partly cloudy</td>\n",
       "      <td>5858</td>\n",
       "      <td>NaN</td>\n",
       "      <td>NaN</td>\n",
       "      <td>NaN</td>\n",
       "      <td>NaN</td>\n",
       "      <td>NaN</td>\n",
       "      <td>NaN</td>\n",
       "      <td>NaN</td>\n",
       "    </tr>\n",
       "    <tr>\n",
       "      <th>temp</th>\n",
       "      <td>7506.0</td>\n",
       "      <td>NaN</td>\n",
       "      <td>NaN</td>\n",
       "      <td>NaN</td>\n",
       "      <td>20.089454</td>\n",
       "      <td>0.82</td>\n",
       "      <td>13.94</td>\n",
       "      <td>20.5</td>\n",
       "      <td>26.24</td>\n",
       "      <td>41.0</td>\n",
       "      <td>8.023304</td>\n",
       "    </tr>\n",
       "    <tr>\n",
       "      <th>temp_feel</th>\n",
       "      <td>8606.0</td>\n",
       "      <td>NaN</td>\n",
       "      <td>NaN</td>\n",
       "      <td>NaN</td>\n",
       "      <td>23.531261</td>\n",
       "      <td>0.76</td>\n",
       "      <td>15.91</td>\n",
       "      <td>24.24</td>\n",
       "      <td>31.06</td>\n",
       "      <td>45.455</td>\n",
       "      <td>8.737997</td>\n",
       "    </tr>\n",
       "    <tr>\n",
       "      <th>humidity</th>\n",
       "      <td>8669.0</td>\n",
       "      <td>NaN</td>\n",
       "      <td>NaN</td>\n",
       "      <td>NaN</td>\n",
       "      <td>60.99354</td>\n",
       "      <td>0.0</td>\n",
       "      <td>46.0</td>\n",
       "      <td>60.0</td>\n",
       "      <td>77.0</td>\n",
       "      <td>100.0</td>\n",
       "      <td>19.67989</td>\n",
       "    </tr>\n",
       "    <tr>\n",
       "      <th>windspeed</th>\n",
       "      <td>8508.0</td>\n",
       "      <td>NaN</td>\n",
       "      <td>NaN</td>\n",
       "      <td>NaN</td>\n",
       "      <td>13.048589</td>\n",
       "      <td>0.0</td>\n",
       "      <td>7.0015</td>\n",
       "      <td>12.998</td>\n",
       "      <td>19.0012</td>\n",
       "      <td>56.9969</td>\n",
       "      <td>8.311058</td>\n",
       "    </tr>\n",
       "    <tr>\n",
       "      <th>demand</th>\n",
       "      <td>8708.0</td>\n",
       "      <td>NaN</td>\n",
       "      <td>NaN</td>\n",
       "      <td>NaN</td>\n",
       "      <td>4.452725</td>\n",
       "      <td>0.0</td>\n",
       "      <td>3.637586</td>\n",
       "      <td>4.867534</td>\n",
       "      <td>5.556828</td>\n",
       "      <td>6.792344</td>\n",
       "      <td>1.493963</td>\n",
       "    </tr>\n",
       "    <tr>\n",
       "      <th>timestampYear</th>\n",
       "      <td>8708.0</td>\n",
       "      <td>NaN</td>\n",
       "      <td>NaN</td>\n",
       "      <td>NaN</td>\n",
       "      <td>2017.377354</td>\n",
       "      <td>2017.0</td>\n",
       "      <td>2017.0</td>\n",
       "      <td>2017.0</td>\n",
       "      <td>2018.0</td>\n",
       "      <td>2018.0</td>\n",
       "      <td>0.484752</td>\n",
       "    </tr>\n",
       "    <tr>\n",
       "      <th>timestampMonth</th>\n",
       "      <td>8708.0</td>\n",
       "      <td>NaN</td>\n",
       "      <td>NaN</td>\n",
       "      <td>NaN</td>\n",
       "      <td>5.628388</td>\n",
       "      <td>1.0</td>\n",
       "      <td>3.0</td>\n",
       "      <td>5.0</td>\n",
       "      <td>8.0</td>\n",
       "      <td>12.0</td>\n",
       "      <td>3.220104</td>\n",
       "    </tr>\n",
       "    <tr>\n",
       "      <th>timestampWeek</th>\n",
       "      <td>8708.0</td>\n",
       "      <td>NaN</td>\n",
       "      <td>NaN</td>\n",
       "      <td>NaN</td>\n",
       "      <td>21.8839</td>\n",
       "      <td>1.0</td>\n",
       "      <td>10.0</td>\n",
       "      <td>20.0</td>\n",
       "      <td>31.0</td>\n",
       "      <td>52.0</td>\n",
       "      <td>14.014102</td>\n",
       "    </tr>\n",
       "    <tr>\n",
       "      <th>timestampDay</th>\n",
       "      <td>8708.0</td>\n",
       "      <td>NaN</td>\n",
       "      <td>NaN</td>\n",
       "      <td>NaN</td>\n",
       "      <td>9.904915</td>\n",
       "      <td>1.0</td>\n",
       "      <td>5.0</td>\n",
       "      <td>10.0</td>\n",
       "      <td>15.0</td>\n",
       "      <td>19.0</td>\n",
       "      <td>5.502719</td>\n",
       "    </tr>\n",
       "    <tr>\n",
       "      <th>timestampDayofweek</th>\n",
       "      <td>8708.0</td>\n",
       "      <td>NaN</td>\n",
       "      <td>NaN</td>\n",
       "      <td>NaN</td>\n",
       "      <td>3.018948</td>\n",
       "      <td>0.0</td>\n",
       "      <td>1.0</td>\n",
       "      <td>3.0</td>\n",
       "      <td>5.0</td>\n",
       "      <td>6.0</td>\n",
       "      <td>2.003897</td>\n",
       "    </tr>\n",
       "    <tr>\n",
       "      <th>timestampDayofyear</th>\n",
       "      <td>8708.0</td>\n",
       "      <td>NaN</td>\n",
       "      <td>NaN</td>\n",
       "      <td>NaN</td>\n",
       "      <td>149.825678</td>\n",
       "      <td>1.0</td>\n",
       "      <td>68.0</td>\n",
       "      <td>136.0</td>\n",
       "      <td>217.0</td>\n",
       "      <td>353.0</td>\n",
       "      <td>97.968074</td>\n",
       "    </tr>\n",
       "    <tr>\n",
       "      <th>timestampIs_month_end</th>\n",
       "      <td>8708</td>\n",
       "      <td>1</td>\n",
       "      <td>False</td>\n",
       "      <td>8708</td>\n",
       "      <td>NaN</td>\n",
       "      <td>NaN</td>\n",
       "      <td>NaN</td>\n",
       "      <td>NaN</td>\n",
       "      <td>NaN</td>\n",
       "      <td>NaN</td>\n",
       "      <td>NaN</td>\n",
       "    </tr>\n",
       "    <tr>\n",
       "      <th>timestampIs_month_start</th>\n",
       "      <td>8708</td>\n",
       "      <td>2</td>\n",
       "      <td>False</td>\n",
       "      <td>8229</td>\n",
       "      <td>NaN</td>\n",
       "      <td>NaN</td>\n",
       "      <td>NaN</td>\n",
       "      <td>NaN</td>\n",
       "      <td>NaN</td>\n",
       "      <td>NaN</td>\n",
       "      <td>NaN</td>\n",
       "    </tr>\n",
       "    <tr>\n",
       "      <th>timestampIs_quarter_end</th>\n",
       "      <td>8708</td>\n",
       "      <td>1</td>\n",
       "      <td>False</td>\n",
       "      <td>8708</td>\n",
       "      <td>NaN</td>\n",
       "      <td>NaN</td>\n",
       "      <td>NaN</td>\n",
       "      <td>NaN</td>\n",
       "      <td>NaN</td>\n",
       "      <td>NaN</td>\n",
       "      <td>NaN</td>\n",
       "    </tr>\n",
       "    <tr>\n",
       "      <th>timestampIs_quarter_start</th>\n",
       "      <td>8708</td>\n",
       "      <td>2</td>\n",
       "      <td>False</td>\n",
       "      <td>8540</td>\n",
       "      <td>NaN</td>\n",
       "      <td>NaN</td>\n",
       "      <td>NaN</td>\n",
       "      <td>NaN</td>\n",
       "      <td>NaN</td>\n",
       "      <td>NaN</td>\n",
       "      <td>NaN</td>\n",
       "    </tr>\n",
       "    <tr>\n",
       "      <th>timestampIs_year_end</th>\n",
       "      <td>8708</td>\n",
       "      <td>1</td>\n",
       "      <td>False</td>\n",
       "      <td>8708</td>\n",
       "      <td>NaN</td>\n",
       "      <td>NaN</td>\n",
       "      <td>NaN</td>\n",
       "      <td>NaN</td>\n",
       "      <td>NaN</td>\n",
       "      <td>NaN</td>\n",
       "      <td>NaN</td>\n",
       "    </tr>\n",
       "    <tr>\n",
       "      <th>timestampIs_year_start</th>\n",
       "      <td>8708</td>\n",
       "      <td>2</td>\n",
       "      <td>False</td>\n",
       "      <td>8660</td>\n",
       "      <td>NaN</td>\n",
       "      <td>NaN</td>\n",
       "      <td>NaN</td>\n",
       "      <td>NaN</td>\n",
       "      <td>NaN</td>\n",
       "      <td>NaN</td>\n",
       "      <td>NaN</td>\n",
       "    </tr>\n",
       "    <tr>\n",
       "      <th>timestampElapsed</th>\n",
       "      <td>8708.0</td>\n",
       "      <td>NaN</td>\n",
       "      <td>NaN</td>\n",
       "      <td>NaN</td>\n",
       "      <td>1508029143.362425</td>\n",
       "      <td>1483228800.0</td>\n",
       "      <td>1495032300.0</td>\n",
       "      <td>1507890600.0</td>\n",
       "      <td>1520583300.0</td>\n",
       "      <td>1533441600.0</td>\n",
       "      <td>14522910.466604</td>\n",
       "    </tr>\n",
       "  </tbody>\n",
       "</table>\n",
       "</div>"
      ],
      "text/plain": [
       "                            count unique                     top  freq  \\\n",
       "timestamp                    8708    NaN                     NaN   NaN   \n",
       "season                       8708      4                  summer  2733   \n",
       "holiday                      8708      2                      No  8469   \n",
       "workingday                   8708      2                     Yes  5949   \n",
       "weather                      8708      4  Clear or partly cloudy  5858   \n",
       "temp                       7506.0    NaN                     NaN   NaN   \n",
       "temp_feel                  8606.0    NaN                     NaN   NaN   \n",
       "humidity                   8669.0    NaN                     NaN   NaN   \n",
       "windspeed                  8508.0    NaN                     NaN   NaN   \n",
       "demand                     8708.0    NaN                     NaN   NaN   \n",
       "timestampYear              8708.0    NaN                     NaN   NaN   \n",
       "timestampMonth             8708.0    NaN                     NaN   NaN   \n",
       "timestampWeek              8708.0    NaN                     NaN   NaN   \n",
       "timestampDay               8708.0    NaN                     NaN   NaN   \n",
       "timestampDayofweek         8708.0    NaN                     NaN   NaN   \n",
       "timestampDayofyear         8708.0    NaN                     NaN   NaN   \n",
       "timestampIs_month_end        8708      1                   False  8708   \n",
       "timestampIs_month_start      8708      2                   False  8229   \n",
       "timestampIs_quarter_end      8708      1                   False  8708   \n",
       "timestampIs_quarter_start    8708      2                   False  8540   \n",
       "timestampIs_year_end         8708      1                   False  8708   \n",
       "timestampIs_year_start       8708      2                   False  8660   \n",
       "timestampElapsed           8708.0    NaN                     NaN   NaN   \n",
       "\n",
       "                                                    mean                  min  \\\n",
       "timestamp                  2017-10-15 00:59:03.362425600  2017-01-01 00:00:00   \n",
       "season                                               NaN                  NaN   \n",
       "holiday                                              NaN                  NaN   \n",
       "workingday                                           NaN                  NaN   \n",
       "weather                                              NaN                  NaN   \n",
       "temp                                           20.089454                 0.82   \n",
       "temp_feel                                      23.531261                 0.76   \n",
       "humidity                                        60.99354                  0.0   \n",
       "windspeed                                      13.048589                  0.0   \n",
       "demand                                          4.452725                  0.0   \n",
       "timestampYear                                2017.377354               2017.0   \n",
       "timestampMonth                                  5.628388                  1.0   \n",
       "timestampWeek                                    21.8839                  1.0   \n",
       "timestampDay                                    9.904915                  1.0   \n",
       "timestampDayofweek                              3.018948                  0.0   \n",
       "timestampDayofyear                            149.825678                  1.0   \n",
       "timestampIs_month_end                                NaN                  NaN   \n",
       "timestampIs_month_start                              NaN                  NaN   \n",
       "timestampIs_quarter_end                              NaN                  NaN   \n",
       "timestampIs_quarter_start                            NaN                  NaN   \n",
       "timestampIs_year_end                                 NaN                  NaN   \n",
       "timestampIs_year_start                               NaN                  NaN   \n",
       "timestampElapsed                       1508029143.362425         1483228800.0   \n",
       "\n",
       "                                           25%                  50%  \\\n",
       "timestamp                  2017-05-17 14:45:00  2017-10-13 10:30:00   \n",
       "season                                     NaN                  NaN   \n",
       "holiday                                    NaN                  NaN   \n",
       "workingday                                 NaN                  NaN   \n",
       "weather                                    NaN                  NaN   \n",
       "temp                                     13.94                 20.5   \n",
       "temp_feel                                15.91                24.24   \n",
       "humidity                                  46.0                 60.0   \n",
       "windspeed                               7.0015               12.998   \n",
       "demand                                3.637586             4.867534   \n",
       "timestampYear                           2017.0               2017.0   \n",
       "timestampMonth                             3.0                  5.0   \n",
       "timestampWeek                             10.0                 20.0   \n",
       "timestampDay                               5.0                 10.0   \n",
       "timestampDayofweek                         1.0                  3.0   \n",
       "timestampDayofyear                        68.0                136.0   \n",
       "timestampIs_month_end                      NaN                  NaN   \n",
       "timestampIs_month_start                    NaN                  NaN   \n",
       "timestampIs_quarter_end                    NaN                  NaN   \n",
       "timestampIs_quarter_start                  NaN                  NaN   \n",
       "timestampIs_year_end                       NaN                  NaN   \n",
       "timestampIs_year_start                     NaN                  NaN   \n",
       "timestampElapsed                  1495032300.0         1507890600.0   \n",
       "\n",
       "                                           75%                  max  \\\n",
       "timestamp                  2018-03-09 08:15:00  2018-08-05 04:00:00   \n",
       "season                                     NaN                  NaN   \n",
       "holiday                                    NaN                  NaN   \n",
       "workingday                                 NaN                  NaN   \n",
       "weather                                    NaN                  NaN   \n",
       "temp                                     26.24                 41.0   \n",
       "temp_feel                                31.06               45.455   \n",
       "humidity                                  77.0                100.0   \n",
       "windspeed                              19.0012              56.9969   \n",
       "demand                                5.556828             6.792344   \n",
       "timestampYear                           2018.0               2018.0   \n",
       "timestampMonth                             8.0                 12.0   \n",
       "timestampWeek                             31.0                 52.0   \n",
       "timestampDay                              15.0                 19.0   \n",
       "timestampDayofweek                         5.0                  6.0   \n",
       "timestampDayofyear                       217.0                353.0   \n",
       "timestampIs_month_end                      NaN                  NaN   \n",
       "timestampIs_month_start                    NaN                  NaN   \n",
       "timestampIs_quarter_end                    NaN                  NaN   \n",
       "timestampIs_quarter_start                  NaN                  NaN   \n",
       "timestampIs_year_end                       NaN                  NaN   \n",
       "timestampIs_year_start                     NaN                  NaN   \n",
       "timestampElapsed                  1520583300.0         1533441600.0   \n",
       "\n",
       "                                       std  \n",
       "timestamp                              NaN  \n",
       "season                                 NaN  \n",
       "holiday                                NaN  \n",
       "workingday                             NaN  \n",
       "weather                                NaN  \n",
       "temp                              8.023304  \n",
       "temp_feel                         8.737997  \n",
       "humidity                          19.67989  \n",
       "windspeed                         8.311058  \n",
       "demand                            1.493963  \n",
       "timestampYear                     0.484752  \n",
       "timestampMonth                    3.220104  \n",
       "timestampWeek                    14.014102  \n",
       "timestampDay                      5.502719  \n",
       "timestampDayofweek                2.003897  \n",
       "timestampDayofyear               97.968074  \n",
       "timestampIs_month_end                  NaN  \n",
       "timestampIs_month_start                NaN  \n",
       "timestampIs_quarter_end                NaN  \n",
       "timestampIs_quarter_start              NaN  \n",
       "timestampIs_year_end                   NaN  \n",
       "timestampIs_year_start                 NaN  \n",
       "timestampElapsed           14522910.466604  "
      ]
     },
     "metadata": {},
     "output_type": "display_data"
    }
   ],
   "source": [
    "display_all(df_train.describe(include='all', datetime_is_numeric=True).T)"
   ]
  },
  {
   "cell_type": "code",
   "execution_count": 158,
   "metadata": {},
   "outputs": [
    {
     "data": {
      "text/html": [
       "<div>\n",
       "<style scoped>\n",
       "    .dataframe tbody tr th:only-of-type {\n",
       "        vertical-align: middle;\n",
       "    }\n",
       "\n",
       "    .dataframe tbody tr th {\n",
       "        vertical-align: top;\n",
       "    }\n",
       "\n",
       "    .dataframe thead th {\n",
       "        text-align: right;\n",
       "    }\n",
       "</style>\n",
       "<table border=\"1\" class=\"dataframe\">\n",
       "  <thead>\n",
       "    <tr style=\"text-align: right;\">\n",
       "      <th></th>\n",
       "      <th>count</th>\n",
       "      <th>unique</th>\n",
       "      <th>top</th>\n",
       "      <th>freq</th>\n",
       "      <th>mean</th>\n",
       "      <th>min</th>\n",
       "      <th>25%</th>\n",
       "      <th>50%</th>\n",
       "      <th>75%</th>\n",
       "      <th>max</th>\n",
       "      <th>std</th>\n",
       "    </tr>\n",
       "  </thead>\n",
       "  <tbody>\n",
       "    <tr>\n",
       "      <th>timestamp</th>\n",
       "      <td>1792</td>\n",
       "      <td>NaN</td>\n",
       "      <td>NaN</td>\n",
       "      <td>NaN</td>\n",
       "      <td>2018-10-14 10:43:37.633928448</td>\n",
       "      <td>2018-08-05 05:00:00</td>\n",
       "      <td>2018-09-09 05:45:00</td>\n",
       "      <td>2018-10-13 03:30:00</td>\n",
       "      <td>2018-11-16 19:15:00</td>\n",
       "      <td>2018-12-19 23:00:00</td>\n",
       "      <td>NaN</td>\n",
       "    </tr>\n",
       "    <tr>\n",
       "      <th>season</th>\n",
       "      <td>1792</td>\n",
       "      <td>2</td>\n",
       "      <td>winter</td>\n",
       "      <td>1132</td>\n",
       "      <td>NaN</td>\n",
       "      <td>NaN</td>\n",
       "      <td>NaN</td>\n",
       "      <td>NaN</td>\n",
       "      <td>NaN</td>\n",
       "      <td>NaN</td>\n",
       "      <td>NaN</td>\n",
       "    </tr>\n",
       "    <tr>\n",
       "      <th>holiday</th>\n",
       "      <td>1792</td>\n",
       "      <td>2</td>\n",
       "      <td>No</td>\n",
       "      <td>1734</td>\n",
       "      <td>NaN</td>\n",
       "      <td>NaN</td>\n",
       "      <td>NaN</td>\n",
       "      <td>NaN</td>\n",
       "      <td>NaN</td>\n",
       "      <td>NaN</td>\n",
       "      <td>NaN</td>\n",
       "    </tr>\n",
       "    <tr>\n",
       "      <th>workingday</th>\n",
       "      <td>1792</td>\n",
       "      <td>2</td>\n",
       "      <td>Yes</td>\n",
       "      <td>1207</td>\n",
       "      <td>NaN</td>\n",
       "      <td>NaN</td>\n",
       "      <td>NaN</td>\n",
       "      <td>NaN</td>\n",
       "      <td>NaN</td>\n",
       "      <td>NaN</td>\n",
       "      <td>NaN</td>\n",
       "    </tr>\n",
       "    <tr>\n",
       "      <th>weather</th>\n",
       "      <td>1792</td>\n",
       "      <td>3</td>\n",
       "      <td>Clear or partly cloudy</td>\n",
       "      <td>1089</td>\n",
       "      <td>NaN</td>\n",
       "      <td>NaN</td>\n",
       "      <td>NaN</td>\n",
       "      <td>NaN</td>\n",
       "      <td>NaN</td>\n",
       "      <td>NaN</td>\n",
       "      <td>NaN</td>\n",
       "    </tr>\n",
       "    <tr>\n",
       "      <th>temp</th>\n",
       "      <td>1792.0</td>\n",
       "      <td>NaN</td>\n",
       "      <td>NaN</td>\n",
       "      <td>NaN</td>\n",
       "      <td>20.703627</td>\n",
       "      <td>6.56</td>\n",
       "      <td>14.76</td>\n",
       "      <td>20.5</td>\n",
       "      <td>27.06</td>\n",
       "      <td>36.9</td>\n",
       "      <td>6.862322</td>\n",
       "    </tr>\n",
       "    <tr>\n",
       "      <th>temp_feel</th>\n",
       "      <td>1792.0</td>\n",
       "      <td>NaN</td>\n",
       "      <td>NaN</td>\n",
       "      <td>NaN</td>\n",
       "      <td>24.056839</td>\n",
       "      <td>9.09</td>\n",
       "      <td>17.425</td>\n",
       "      <td>23.485</td>\n",
       "      <td>31.06</td>\n",
       "      <td>42.425</td>\n",
       "      <td>7.448754</td>\n",
       "    </tr>\n",
       "    <tr>\n",
       "      <th>humidity</th>\n",
       "      <td>1792.0</td>\n",
       "      <td>NaN</td>\n",
       "      <td>NaN</td>\n",
       "      <td>NaN</td>\n",
       "      <td>65.407366</td>\n",
       "      <td>16.0</td>\n",
       "      <td>52.0</td>\n",
       "      <td>66.0</td>\n",
       "      <td>79.0</td>\n",
       "      <td>100.0</td>\n",
       "      <td>16.890864</td>\n",
       "    </tr>\n",
       "    <tr>\n",
       "      <th>windspeed</th>\n",
       "      <td>1792.0</td>\n",
       "      <td>NaN</td>\n",
       "      <td>NaN</td>\n",
       "      <td>NaN</td>\n",
       "      <td>11.797762</td>\n",
       "      <td>0.0</td>\n",
       "      <td>7.0015</td>\n",
       "      <td>11.0014</td>\n",
       "      <td>16.9979</td>\n",
       "      <td>43.0006</td>\n",
       "      <td>7.526558</td>\n",
       "    </tr>\n",
       "    <tr>\n",
       "      <th>timestampYear</th>\n",
       "      <td>1792.0</td>\n",
       "      <td>NaN</td>\n",
       "      <td>NaN</td>\n",
       "      <td>NaN</td>\n",
       "      <td>2018.0</td>\n",
       "      <td>2018.0</td>\n",
       "      <td>2018.0</td>\n",
       "      <td>2018.0</td>\n",
       "      <td>2018.0</td>\n",
       "      <td>2018.0</td>\n",
       "      <td>0.0</td>\n",
       "    </tr>\n",
       "    <tr>\n",
       "      <th>timestampMonth</th>\n",
       "      <td>1792.0</td>\n",
       "      <td>NaN</td>\n",
       "      <td>NaN</td>\n",
       "      <td>NaN</td>\n",
       "      <td>10.111049</td>\n",
       "      <td>8.0</td>\n",
       "      <td>9.0</td>\n",
       "      <td>10.0</td>\n",
       "      <td>11.0</td>\n",
       "      <td>12.0</td>\n",
       "      <td>1.375973</td>\n",
       "    </tr>\n",
       "    <tr>\n",
       "      <th>timestampWeek</th>\n",
       "      <td>1792.0</td>\n",
       "      <td>NaN</td>\n",
       "      <td>NaN</td>\n",
       "      <td>NaN</td>\n",
       "      <td>41.426339</td>\n",
       "      <td>31.0</td>\n",
       "      <td>36.0</td>\n",
       "      <td>41.0</td>\n",
       "      <td>46.0</td>\n",
       "      <td>51.0</td>\n",
       "      <td>5.991725</td>\n",
       "    </tr>\n",
       "    <tr>\n",
       "      <th>timestampDay</th>\n",
       "      <td>1792.0</td>\n",
       "      <td>NaN</td>\n",
       "      <td>NaN</td>\n",
       "      <td>NaN</td>\n",
       "      <td>10.367188</td>\n",
       "      <td>1.0</td>\n",
       "      <td>6.0</td>\n",
       "      <td>10.0</td>\n",
       "      <td>15.0</td>\n",
       "      <td>19.0</td>\n",
       "      <td>5.370078</td>\n",
       "    </tr>\n",
       "    <tr>\n",
       "      <th>timestampDayofweek</th>\n",
       "      <td>1792.0</td>\n",
       "      <td>NaN</td>\n",
       "      <td>NaN</td>\n",
       "      <td>NaN</td>\n",
       "      <td>2.981027</td>\n",
       "      <td>0.0</td>\n",
       "      <td>1.0</td>\n",
       "      <td>3.0</td>\n",
       "      <td>5.0</td>\n",
       "      <td>6.0</td>\n",
       "      <td>2.045457</td>\n",
       "    </tr>\n",
       "    <tr>\n",
       "      <th>timestampDayofyear</th>\n",
       "      <td>1792.0</td>\n",
       "      <td>NaN</td>\n",
       "      <td>NaN</td>\n",
       "      <td>NaN</td>\n",
       "      <td>286.965402</td>\n",
       "      <td>217.0</td>\n",
       "      <td>252.0</td>\n",
       "      <td>286.0</td>\n",
       "      <td>320.0</td>\n",
       "      <td>353.0</td>\n",
       "      <td>41.842689</td>\n",
       "    </tr>\n",
       "    <tr>\n",
       "      <th>timestampIs_month_end</th>\n",
       "      <td>1792</td>\n",
       "      <td>1</td>\n",
       "      <td>False</td>\n",
       "      <td>1792</td>\n",
       "      <td>NaN</td>\n",
       "      <td>NaN</td>\n",
       "      <td>NaN</td>\n",
       "      <td>NaN</td>\n",
       "      <td>NaN</td>\n",
       "      <td>NaN</td>\n",
       "      <td>NaN</td>\n",
       "    </tr>\n",
       "    <tr>\n",
       "      <th>timestampIs_month_start</th>\n",
       "      <td>1792</td>\n",
       "      <td>2</td>\n",
       "      <td>False</td>\n",
       "      <td>1713</td>\n",
       "      <td>NaN</td>\n",
       "      <td>NaN</td>\n",
       "      <td>NaN</td>\n",
       "      <td>NaN</td>\n",
       "      <td>NaN</td>\n",
       "      <td>NaN</td>\n",
       "      <td>NaN</td>\n",
       "    </tr>\n",
       "    <tr>\n",
       "      <th>timestampIs_quarter_end</th>\n",
       "      <td>1792</td>\n",
       "      <td>1</td>\n",
       "      <td>False</td>\n",
       "      <td>1792</td>\n",
       "      <td>NaN</td>\n",
       "      <td>NaN</td>\n",
       "      <td>NaN</td>\n",
       "      <td>NaN</td>\n",
       "      <td>NaN</td>\n",
       "      <td>NaN</td>\n",
       "      <td>NaN</td>\n",
       "    </tr>\n",
       "    <tr>\n",
       "      <th>timestampIs_quarter_start</th>\n",
       "      <td>1792</td>\n",
       "      <td>2</td>\n",
       "      <td>False</td>\n",
       "      <td>1771</td>\n",
       "      <td>NaN</td>\n",
       "      <td>NaN</td>\n",
       "      <td>NaN</td>\n",
       "      <td>NaN</td>\n",
       "      <td>NaN</td>\n",
       "      <td>NaN</td>\n",
       "      <td>NaN</td>\n",
       "    </tr>\n",
       "    <tr>\n",
       "      <th>timestampIs_year_end</th>\n",
       "      <td>1792</td>\n",
       "      <td>1</td>\n",
       "      <td>False</td>\n",
       "      <td>1792</td>\n",
       "      <td>NaN</td>\n",
       "      <td>NaN</td>\n",
       "      <td>NaN</td>\n",
       "      <td>NaN</td>\n",
       "      <td>NaN</td>\n",
       "      <td>NaN</td>\n",
       "      <td>NaN</td>\n",
       "    </tr>\n",
       "    <tr>\n",
       "      <th>timestampIs_year_start</th>\n",
       "      <td>1792</td>\n",
       "      <td>1</td>\n",
       "      <td>False</td>\n",
       "      <td>1792</td>\n",
       "      <td>NaN</td>\n",
       "      <td>NaN</td>\n",
       "      <td>NaN</td>\n",
       "      <td>NaN</td>\n",
       "      <td>NaN</td>\n",
       "      <td>NaN</td>\n",
       "      <td>NaN</td>\n",
       "    </tr>\n",
       "    <tr>\n",
       "      <th>timestampElapsed</th>\n",
       "      <td>1792.0</td>\n",
       "      <td>NaN</td>\n",
       "      <td>NaN</td>\n",
       "      <td>NaN</td>\n",
       "      <td>1539513817.633929</td>\n",
       "      <td>1533445200.0</td>\n",
       "      <td>1536471900.0</td>\n",
       "      <td>1539401400.0</td>\n",
       "      <td>1542395700.0</td>\n",
       "      <td>1545260400.0</td>\n",
       "      <td>3615041.885347</td>\n",
       "    </tr>\n",
       "  </tbody>\n",
       "</table>\n",
       "</div>"
      ],
      "text/plain": [
       "                            count unique                     top  freq  \\\n",
       "timestamp                    1792    NaN                     NaN   NaN   \n",
       "season                       1792      2                  winter  1132   \n",
       "holiday                      1792      2                      No  1734   \n",
       "workingday                   1792      2                     Yes  1207   \n",
       "weather                      1792      3  Clear or partly cloudy  1089   \n",
       "temp                       1792.0    NaN                     NaN   NaN   \n",
       "temp_feel                  1792.0    NaN                     NaN   NaN   \n",
       "humidity                   1792.0    NaN                     NaN   NaN   \n",
       "windspeed                  1792.0    NaN                     NaN   NaN   \n",
       "timestampYear              1792.0    NaN                     NaN   NaN   \n",
       "timestampMonth             1792.0    NaN                     NaN   NaN   \n",
       "timestampWeek              1792.0    NaN                     NaN   NaN   \n",
       "timestampDay               1792.0    NaN                     NaN   NaN   \n",
       "timestampDayofweek         1792.0    NaN                     NaN   NaN   \n",
       "timestampDayofyear         1792.0    NaN                     NaN   NaN   \n",
       "timestampIs_month_end        1792      1                   False  1792   \n",
       "timestampIs_month_start      1792      2                   False  1713   \n",
       "timestampIs_quarter_end      1792      1                   False  1792   \n",
       "timestampIs_quarter_start    1792      2                   False  1771   \n",
       "timestampIs_year_end         1792      1                   False  1792   \n",
       "timestampIs_year_start       1792      1                   False  1792   \n",
       "timestampElapsed           1792.0    NaN                     NaN   NaN   \n",
       "\n",
       "                                                    mean                  min  \\\n",
       "timestamp                  2018-10-14 10:43:37.633928448  2018-08-05 05:00:00   \n",
       "season                                               NaN                  NaN   \n",
       "holiday                                              NaN                  NaN   \n",
       "workingday                                           NaN                  NaN   \n",
       "weather                                              NaN                  NaN   \n",
       "temp                                           20.703627                 6.56   \n",
       "temp_feel                                      24.056839                 9.09   \n",
       "humidity                                       65.407366                 16.0   \n",
       "windspeed                                      11.797762                  0.0   \n",
       "timestampYear                                     2018.0               2018.0   \n",
       "timestampMonth                                 10.111049                  8.0   \n",
       "timestampWeek                                  41.426339                 31.0   \n",
       "timestampDay                                   10.367188                  1.0   \n",
       "timestampDayofweek                              2.981027                  0.0   \n",
       "timestampDayofyear                            286.965402                217.0   \n",
       "timestampIs_month_end                                NaN                  NaN   \n",
       "timestampIs_month_start                              NaN                  NaN   \n",
       "timestampIs_quarter_end                              NaN                  NaN   \n",
       "timestampIs_quarter_start                            NaN                  NaN   \n",
       "timestampIs_year_end                                 NaN                  NaN   \n",
       "timestampIs_year_start                               NaN                  NaN   \n",
       "timestampElapsed                       1539513817.633929         1533445200.0   \n",
       "\n",
       "                                           25%                  50%  \\\n",
       "timestamp                  2018-09-09 05:45:00  2018-10-13 03:30:00   \n",
       "season                                     NaN                  NaN   \n",
       "holiday                                    NaN                  NaN   \n",
       "workingday                                 NaN                  NaN   \n",
       "weather                                    NaN                  NaN   \n",
       "temp                                     14.76                 20.5   \n",
       "temp_feel                               17.425               23.485   \n",
       "humidity                                  52.0                 66.0   \n",
       "windspeed                               7.0015              11.0014   \n",
       "timestampYear                           2018.0               2018.0   \n",
       "timestampMonth                             9.0                 10.0   \n",
       "timestampWeek                             36.0                 41.0   \n",
       "timestampDay                               6.0                 10.0   \n",
       "timestampDayofweek                         1.0                  3.0   \n",
       "timestampDayofyear                       252.0                286.0   \n",
       "timestampIs_month_end                      NaN                  NaN   \n",
       "timestampIs_month_start                    NaN                  NaN   \n",
       "timestampIs_quarter_end                    NaN                  NaN   \n",
       "timestampIs_quarter_start                  NaN                  NaN   \n",
       "timestampIs_year_end                       NaN                  NaN   \n",
       "timestampIs_year_start                     NaN                  NaN   \n",
       "timestampElapsed                  1536471900.0         1539401400.0   \n",
       "\n",
       "                                           75%                  max  \\\n",
       "timestamp                  2018-11-16 19:15:00  2018-12-19 23:00:00   \n",
       "season                                     NaN                  NaN   \n",
       "holiday                                    NaN                  NaN   \n",
       "workingday                                 NaN                  NaN   \n",
       "weather                                    NaN                  NaN   \n",
       "temp                                     27.06                 36.9   \n",
       "temp_feel                                31.06               42.425   \n",
       "humidity                                  79.0                100.0   \n",
       "windspeed                              16.9979              43.0006   \n",
       "timestampYear                           2018.0               2018.0   \n",
       "timestampMonth                            11.0                 12.0   \n",
       "timestampWeek                             46.0                 51.0   \n",
       "timestampDay                              15.0                 19.0   \n",
       "timestampDayofweek                         5.0                  6.0   \n",
       "timestampDayofyear                       320.0                353.0   \n",
       "timestampIs_month_end                      NaN                  NaN   \n",
       "timestampIs_month_start                    NaN                  NaN   \n",
       "timestampIs_quarter_end                    NaN                  NaN   \n",
       "timestampIs_quarter_start                  NaN                  NaN   \n",
       "timestampIs_year_end                       NaN                  NaN   \n",
       "timestampIs_year_start                     NaN                  NaN   \n",
       "timestampElapsed                  1542395700.0         1545260400.0   \n",
       "\n",
       "                                      std  \n",
       "timestamp                             NaN  \n",
       "season                                NaN  \n",
       "holiday                               NaN  \n",
       "workingday                            NaN  \n",
       "weather                               NaN  \n",
       "temp                             6.862322  \n",
       "temp_feel                        7.448754  \n",
       "humidity                        16.890864  \n",
       "windspeed                        7.526558  \n",
       "timestampYear                         0.0  \n",
       "timestampMonth                   1.375973  \n",
       "timestampWeek                    5.991725  \n",
       "timestampDay                     5.370078  \n",
       "timestampDayofweek               2.045457  \n",
       "timestampDayofyear              41.842689  \n",
       "timestampIs_month_end                 NaN  \n",
       "timestampIs_month_start               NaN  \n",
       "timestampIs_quarter_end               NaN  \n",
       "timestampIs_quarter_start             NaN  \n",
       "timestampIs_year_end                  NaN  \n",
       "timestampIs_year_start                NaN  \n",
       "timestampElapsed           3615041.885347  "
      ]
     },
     "metadata": {},
     "output_type": "display_data"
    }
   ],
   "source": [
    "display_all(df_test.describe(include='all', datetime_is_numeric=True).T)"
   ]
  },
  {
   "cell_type": "markdown",
   "metadata": {},
   "source": [
    "## Missing Values"
   ]
  },
  {
   "cell_type": "markdown",
   "metadata": {},
   "source": [
    "Predictors humidity, temp, wind speed and temp_feel have missing values"
   ]
  },
  {
   "cell_type": "code",
   "execution_count": 160,
   "metadata": {},
   "outputs": [
    {
     "data": {
      "text/plain": [
       "demand                       0.000000\n",
       "holiday                      0.000000\n",
       "humidity                     0.004479\n",
       "season                       0.000000\n",
       "temp                         0.138034\n",
       "temp_feel                    0.011713\n",
       "timestamp                    0.000000\n",
       "timestampDay                 0.000000\n",
       "timestampDayofweek           0.000000\n",
       "timestampDayofyear           0.000000\n",
       "timestampElapsed             0.000000\n",
       "timestampIs_month_end        0.000000\n",
       "timestampIs_month_start      0.000000\n",
       "timestampIs_quarter_end      0.000000\n",
       "timestampIs_quarter_start    0.000000\n",
       "timestampIs_year_end         0.000000\n",
       "timestampIs_year_start       0.000000\n",
       "timestampMonth               0.000000\n",
       "timestampWeek                0.000000\n",
       "timestampYear                0.000000\n",
       "weather                      0.000000\n",
       "windspeed                    0.022967\n",
       "workingday                   0.000000\n",
       "dtype: float64"
      ]
     },
     "metadata": {},
     "output_type": "display_data"
    }
   ],
   "source": [
    "display_all(df_train.isnull().sum().sort_index()/len(df_train))"
   ]
  },
  {
   "cell_type": "markdown",
   "metadata": {},
   "source": [
    "## Feature Distributions"
   ]
  },
  {
   "cell_type": "markdown",
   "metadata": {},
   "source": [
    "The values in target variable are skewed towards left"
   ]
  },
  {
   "cell_type": "code",
   "execution_count": 226,
   "metadata": {},
   "outputs": [
    {
     "data": {
      "text/plain": [
       "<AxesSubplot:>"
      ]
     },
     "execution_count": 226,
     "metadata": {},
     "output_type": "execute_result"
    },
    {
     "data": {
      "image/png": "[encoded data removed]",
      "text/plain": [
       "<Figure size 432x288 with 1 Axes>"
      ]
     },
     "metadata": {
      "needs_background": "light"
     },
     "output_type": "display_data"
    }
   ],
   "source": [
    "df_train['demand'].hist()"
   ]
  },
  {
   "cell_type": "markdown",
   "metadata": {},
   "source": [
    "### Multicollinearity check"
   ]
  },
  {
   "cell_type": "markdown",
   "metadata": {},
   "source": [
    "temp and temp feel are highly correlated so one of them can be removed"
   ]
  },
  {
   "cell_type": "code",
   "execution_count": 233,
   "metadata": {},
   "outputs": [
    {
     "data": {
      "text/plain": [
       "<AxesSubplot:>"
      ]
     },
     "execution_count": 233,
     "metadata": {},
     "output_type": "execute_result"
    },
    {
     "data": {
      "image/png": "[encoded data removed]",
      "text/plain": [
       "<Figure size 432x288 with 2 Axes>"
      ]
     },
     "metadata": {
      "needs_background": "light"
     },
     "output_type": "display_data"
    }
   ],
   "source": [
    "sns.heatmap(df_train.corr('spearman'))"
   ]
  },
  {
   "cell_type": "markdown",
   "metadata": {
    "colab_type": "text",
    "id": "ymsdDaIPIKSX"
   },
   "source": [
    "## Visualization, Modeling, Machine Learning\n",
    "\n",
    "Build a model that can predict hourly demand and identify how different features influence the decision. Please explain the findings effectively to technical and non-technical audiences using comments and visualizations, if appropriate.\n",
    "- **Build an optimized model that effectively solves the business problem.**\n",
    "- **The model will be evaluated on the basis of mean absolute error.**\n",
    "- **Read the test.csv file and prepare features for testing.**"
   ]
  },
  {
   "cell_type": "markdown",
   "metadata": {
    "colab": {},
    "colab_type": "code",
    "id": "73vBzp7lIKSf"
   },
   "source": [
    "### Data Preprocessing"
   ]
  },
  {
   "cell_type": "code",
   "execution_count": 247,
   "metadata": {},
   "outputs": [],
   "source": [
    "TRAIN_FEATURES = ['season', 'holiday', 'workingday', 'weather', 'temp',\n",
    "        'humidity', 'windspeed', 'demand', 'timestampYear',\n",
    "       'timestampMonth', 'timestampWeek', 'timestampDay', 'timestampDayofweek',\n",
    "       'timestampDayofyear', 'timestampIs_month_end',\n",
    "       'timestampIs_month_start', 'timestampIs_quarter_end',\n",
    "       'timestampIs_quarter_start', 'timestampIs_year_end',\n",
    "       'timestampIs_year_start', 'temp_feel']"
   ]
  },
  {
   "cell_type": "code",
   "execution_count": 248,
   "metadata": {},
   "outputs": [],
   "source": [
    "X_train = df_train[TRAIN_FEATURES].copy()"
   ]
  },
  {
   "cell_type": "code",
   "execution_count": 249,
   "metadata": {},
   "outputs": [],
   "source": [
    "X_test = df_test[[col for col in TRAIN_FEATURES if col not in ['demand']]].copy()"
   ]
  },
  {
   "cell_type": "markdown",
   "metadata": {},
   "source": [
    "### The variable of type object are converted to categorical variables"
   ]
  },
  {
   "cell_type": "code",
   "execution_count": 250,
   "metadata": {
    "colab": {},
    "colab_type": "code",
    "id": "7tBCHjd3IKSp"
   },
   "outputs": [
    {
     "name": "stderr",
     "output_type": "stream",
     "text": [
      "The `inplace` parameter in pandas.Categorical.set_categories is deprecated and will be removed in a future version. Removing unused categories will always return a new Categorical object.\n"
     ]
    }
   ],
   "source": [
    "train_cats(X_train)\n",
    "apply_cats(X_test, X_train)"
   ]
  },
  {
   "cell_type": "markdown",
   "metadata": {},
   "source": [
    "### Missing value imputation"
   ]
  },
  {
   "cell_type": "markdown",
   "metadata": {},
   "source": [
    "Missing values in the numeric columns of the training set are replaced with median\n",
    "\n",
    "The median of the training data sert used imputing the vlaue of the test data set\n",
    "\n",
    "The categorical variable with cardinality less than 6 were converted to one hot encoded features\n",
    "\n"
   ]
  },
  {
   "cell_type": "code",
   "execution_count": 251,
   "metadata": {},
   "outputs": [
    {
     "name": "stdout",
     "output_type": "stream",
     "text": [
      "CPU times: user 17.8 ms, sys: 945 µs, total: 18.7 ms\n",
      "Wall time: 17.5 ms\n"
     ]
    }
   ],
   "source": [
    "%%time\n",
    "X_train, y_train, nas_train = proc_df(X_train, 'demand', max_n_cat=6 )"
   ]
  },
  {
   "cell_type": "code",
   "execution_count": 252,
   "metadata": {},
   "outputs": [],
   "source": [
    "X_test, y_test, nas_test = proc_df(X_test, na_dict=nas_train, max_n_cat=6)"
   ]
  },
  {
   "cell_type": "markdown",
   "metadata": {},
   "source": [
    "## Fit Model"
   ]
  },
  {
   "cell_type": "markdown",
   "metadata": {},
   "source": [
    "LGBM regressor is used for fitting the model"
   ]
  },
  {
   "cell_type": "code",
   "execution_count": 253,
   "metadata": {},
   "outputs": [],
   "source": [
    "lgb_reg = lgb.LGBMRegressor(objective='regression',num_leaves=5,\n",
    "                              learning_rate=0.05, n_estimators=720,\n",
    "                              max_bin = 55, bagging_fraction = 0.8,\n",
    "                              bagging_freq = 5, feature_fraction = 0.2319,\n",
    "                              feature_fraction_seed=9, bagging_seed=9,\n",
    "                              min_data_in_leaf =6, min_sum_hessian_in_leaf = 11)"
   ]
  },
  {
   "cell_type": "code",
   "execution_count": 254,
   "metadata": {},
   "outputs": [
    {
     "name": "stdout",
     "output_type": "stream",
     "text": [
      "[LightGBM] [Warning] feature_fraction is set=0.2319, colsample_bytree=1.0 will be ignored. Current value: feature_fraction=0.2319\n",
      "[LightGBM] [Warning] min_sum_hessian_in_leaf is set=11, min_child_weight=0.001 will be ignored. Current value: min_sum_hessian_in_leaf=11\n",
      "[LightGBM] [Warning] min_data_in_leaf is set=6, min_child_samples=20 will be ignored. Current value: min_data_in_leaf=6\n",
      "[LightGBM] [Warning] bagging_freq is set=5, subsample_freq=0 will be ignored. Current value: bagging_freq=5\n",
      "[LightGBM] [Warning] bagging_fraction is set=0.8, subsample=1.0 will be ignored. Current value: bagging_fraction=0.8\n"
     ]
    },
    {
     "data": {
      "text/plain": [
       "LGBMRegressor(bagging_fraction=0.8, bagging_freq=5, bagging_seed=9,\n",
       "              feature_fraction=0.2319, feature_fraction_seed=9,\n",
       "              learning_rate=0.05, max_bin=55, min_data_in_leaf=6,\n",
       "              min_sum_hessian_in_leaf=11, n_estimators=720, num_leaves=5,\n",
       "              objective='regression')"
      ]
     },
     "execution_count": 254,
     "metadata": {},
     "output_type": "execute_result"
    }
   ],
   "source": [
    "lgb_reg.fit(X_train, y_train)"
   ]
  },
  {
   "cell_type": "code",
   "execution_count": 255,
   "metadata": {},
   "outputs": [],
   "source": [
    "y_pred_train = lgb_reg.predict(X_train)\n",
    "y_pred_test = lgb_reg.predict(X_test)"
   ]
  },
  {
   "cell_type": "code",
   "execution_count": 256,
   "metadata": {},
   "outputs": [],
   "source": [
    "from sklearn.metrics import mean_absolute_error, r2_score, mean_squared_error\n",
    "from IPython.display import HTML, display\n",
    "\n",
    "\n",
    "def eval_metrics(actual, pred):\n",
    "    \n",
    "    rmse = np.sqrt(mean_squared_error(actual, pred))\n",
    "    mae = mean_absolute_error(actual, pred)\n",
    "    r2 = r2_score(actual, pred)\n",
    "    y_true, y_pred = np.array(actual), np.array(pred)\n",
    "    mape = np.mean(np.abs((y_true - y_pred) / y_true))\n",
    "    return {'rmse': rmse, 'mae': mae, 'mape': mape}"
   ]
  },
  {
   "cell_type": "markdown",
   "metadata": {},
   "source": [
    "## Baseline"
   ]
  },
  {
   "cell_type": "markdown",
   "metadata": {},
   "source": [
    "For baseline mean value compared to the training mean"
   ]
  },
  {
   "cell_type": "code",
   "execution_count": 257,
   "metadata": {},
   "outputs": [],
   "source": [
    "ls_y_train_mean = [y_train.mean()] * len(y_train)"
   ]
  },
  {
   "cell_type": "code",
   "execution_count": 258,
   "metadata": {},
   "outputs": [
    {
     "name": "stderr",
     "output_type": "stream",
     "text": [
      "divide by zero encountered in true_divide\n"
     ]
    },
    {
     "data": {
      "text/plain": [
       "{'rmse': 1.4938775939497793, 'mae': 1.1951755750802744, 'mape': inf}"
      ]
     },
     "execution_count": 258,
     "metadata": {},
     "output_type": "execute_result"
    }
   ],
   "source": [
    "eval_metrics(y_train, ls_y_train_mean)"
   ]
  },
  {
   "cell_type": "markdown",
   "metadata": {},
   "source": [
    "### Training MAE"
   ]
  },
  {
   "cell_type": "markdown",
   "metadata": {},
   "source": [
    "The training MAE is better than the baseline"
   ]
  },
  {
   "cell_type": "code",
   "execution_count": 259,
   "metadata": {},
   "outputs": [
    {
     "name": "stderr",
     "output_type": "stream",
     "text": [
      "divide by zero encountered in true_divide\n"
     ]
    },
    {
     "data": {
      "text/plain": [
       "{'rmse': 1.1659323291759909, 'mae': 0.8742104331308173, 'mape': inf}"
      ]
     },
     "execution_count": 259,
     "metadata": {},
     "output_type": "execute_result"
    }
   ],
   "source": [
    "eval_metrics(y_train, y_pred_train)"
   ]
  },
  {
   "cell_type": "markdown",
   "metadata": {
    "colab_type": "text",
    "id": "MK_rdXETIKS4"
   },
   "source": [
    "\n",
    "\n",
    "**Identify the most important features of the model for management.**\n",
    "\n",
    "> #### Task:\n",
    "- **Visualize the top 20 features and their feature importance.**\n"
   ]
  },
  {
   "cell_type": "markdown",
   "metadata": {
    "colab": {},
    "colab_type": "code",
    "id": "HHFM3XPMIKS6"
   },
   "source": [
    "## Feature Importance"
   ]
  },
  {
   "cell_type": "markdown",
   "metadata": {},
   "source": [
    "The summary plot combines feature importance with feature effects\n",
    "\n",
    "Each poing on the summary plot is a shapley value for feature and an instance\n",
    "\n",
    "The position on the y-axis is determined by the feature and on the x-axis by the shapley value.\n",
    "\n",
    "The color represent the value of the feature from low to high\n",
    "\n",
    "The overlapping points are jittered in y-axis direction, so we get a sense of the distribution of the shapley values\n",
    "per feature. The features are ordered according to their importance"
   ]
  },
  {
   "cell_type": "code",
   "execution_count": 176,
   "metadata": {
    "colab": {},
    "colab_type": "code",
    "id": "jabG4TJwIKS_"
   },
   "outputs": [],
   "source": [
    "shap_values = shap.TreeExplainer(lgb_reg).shap_values(X_train)"
   ]
  },
  {
   "cell_type": "code",
   "execution_count": 182,
   "metadata": {},
   "outputs": [
    {
     "data": {
      "image/png": "[encoded data removed]",
      "text/plain": [
       "<Figure size 800x950 with 2 Axes>"
      ]
     },
     "metadata": {},
     "output_type": "display_data"
    }
   ],
   "source": [
    "shap.summary_plot(shap_values, X_train)"
   ]
  },
  {
   "cell_type": "markdown",
   "metadata": {},
   "source": [
    "## Partial Dependence Plot"
   ]
  },
  {
   "cell_type": "markdown",
   "metadata": {},
   "source": [
    "Shap partial dependence plot shows the interaction effect between the predictor variable and the shapley value"
   ]
  },
  {
   "cell_type": "markdown",
   "metadata": {},
   "source": [
    "### The increase in humidty has a negative impact on the demand for bike"
   ]
  },
  {
   "cell_type": "code",
   "execution_count": 183,
   "metadata": {},
   "outputs": [
    {
     "name": "stderr",
     "output_type": "stream",
     "text": [
      "Passing parameters norm and vmin/vmax simultaneously is deprecated since 3.3 and will become an error two minor releases later. Please pass vmin/vmax directly to the norm when creating it.\n"
     ]
    },
    {
     "data": {
      "image/png": "[encoded data removed]",
      "text/plain": [
       "<Figure size 750x500 with 2 Axes>"
      ]
     },
     "metadata": {},
     "output_type": "display_data"
    }
   ],
   "source": [
    "shap.dependence_plot('humidity', shap_values, X_train.values, feature_names=X_train.columns)"
   ]
  },
  {
   "cell_type": "markdown",
   "metadata": {},
   "source": [
    "### The increase in temperature has a positive influence on the demand for bikes"
   ]
  },
  {
   "cell_type": "code",
   "execution_count": 184,
   "metadata": {},
   "outputs": [
    {
     "data": {
      "image/png": "[encoded data removed]",
      "text/plain": [
       "<Figure size 750x500 with 2 Axes>"
      ]
     },
     "metadata": {},
     "output_type": "display_data"
    }
   ],
   "source": [
    "shap.dependence_plot('temp', shap_values, X_train.values, feature_names=X_train.columns)"
   ]
  },
  {
   "cell_type": "markdown",
   "metadata": {},
   "source": [
    "### The 5th month of the year has a positive impact on the demand for bike and later half of the year sees a positive impact on demand for bikes"
   ]
  },
  {
   "cell_type": "code",
   "execution_count": 219,
   "metadata": {},
   "outputs": [
    {
     "data": {
      "image/png": "[encoded data removed]",
      "text/plain": [
       "<Figure size 540x360 with 2 Axes>"
      ]
     },
     "metadata": {
      "needs_background": "light"
     },
     "output_type": "display_data"
    }
   ],
   "source": [
    "shap.dependence_plot('timestampMonth', shap_values, X_train.values, feature_names=X_train.columns)"
   ]
  },
  {
   "cell_type": "markdown",
   "metadata": {
    "colab_type": "text",
    "id": "UFogmgYZIKTE"
   },
   "source": [
    "> #### Task:\n",
    "- **Submit the predictions on the test dataset using the optimized model** <br/>\n",
    "    For each record in the test set (`test.csv`), predict the value of the `demand` variable. Submit a CSV file with a header row and one row per test entry.\n",
    "    \n",
    "The file (`submissions.csv`) should have exactly 2 columns:\n",
    "   - **id**\n",
    "   - **demand**"
   ]
  },
  {
   "cell_type": "code",
   "execution_count": 204,
   "metadata": {},
   "outputs": [],
   "source": [
    "submission_df = X_test.reset_index().copy()"
   ]
  },
  {
   "cell_type": "code",
   "execution_count": 205,
   "metadata": {
    "colab": {},
    "colab_type": "code",
    "id": "7xgNg25MIKTG"
   },
   "outputs": [],
   "source": [
    "submission_df['demand'] = pd.DataFrame(y_pred_test)"
   ]
  },
  {
   "cell_type": "code",
   "execution_count": 209,
   "metadata": {},
   "outputs": [
    {
     "data": {
      "text/html": [
       "<div>\n",
       "<style scoped>\n",
       "    .dataframe tbody tr th:only-of-type {\n",
       "        vertical-align: middle;\n",
       "    }\n",
       "\n",
       "    .dataframe tbody tr th {\n",
       "        vertical-align: top;\n",
       "    }\n",
       "\n",
       "    .dataframe thead th {\n",
       "        text-align: right;\n",
       "    }\n",
       "</style>\n",
       "<table border=\"1\" class=\"dataframe\">\n",
       "  <thead>\n",
       "    <tr style=\"text-align: right;\">\n",
       "      <th></th>\n",
       "      <th>id</th>\n",
       "      <th>demand</th>\n",
       "    </tr>\n",
       "  </thead>\n",
       "  <tbody>\n",
       "    <tr>\n",
       "      <th>0</th>\n",
       "      <td>8709</td>\n",
       "      <td>5.052243</td>\n",
       "    </tr>\n",
       "    <tr>\n",
       "      <th>1</th>\n",
       "      <td>8710</td>\n",
       "      <td>4.940460</td>\n",
       "    </tr>\n",
       "    <tr>\n",
       "      <th>2</th>\n",
       "      <td>8712</td>\n",
       "      <td>5.330509</td>\n",
       "    </tr>\n",
       "    <tr>\n",
       "      <th>3</th>\n",
       "      <td>8713</td>\n",
       "      <td>5.700387</td>\n",
       "    </tr>\n",
       "    <tr>\n",
       "      <th>4</th>\n",
       "      <td>8714</td>\n",
       "      <td>5.704524</td>\n",
       "    </tr>\n",
       "  </tbody>\n",
       "</table>\n",
       "</div>"
      ],
      "text/plain": [
       "     id    demand\n",
       "0  8709  5.052243\n",
       "1  8710  4.940460\n",
       "2  8712  5.330509\n",
       "3  8713  5.700387\n",
       "4  8714  5.704524"
      ]
     },
     "execution_count": 209,
     "metadata": {},
     "output_type": "execute_result"
    }
   ],
   "source": [
    "submission_df[['id', 'demand']].head()"
   ]
  },
  {
   "cell_type": "code",
   "execution_count": 207,
   "metadata": {
    "colab": {},
    "colab_type": "code",
    "id": "nBRVPrYbIKTQ"
   },
   "outputs": [],
   "source": [
    "#Submission\n",
    "submission_df[['id', 'demand']].to_csv('submissions.csv',index=False)"
   ]
  },
  {
   "cell_type": "markdown",
   "metadata": {
    "colab_type": "text",
    "id": "H_pB8zTcIKTW"
   },
   "source": [
    "---"
   ]
  }
 ],
 "metadata": {
  "colab": {
   "collapsed_sections": [],
   "name": "Questions.ipynb",
   "provenance": []
  },
  "kernelspec": {
   "display_name": "ai4mc-ds-dev-env",
   "language": "python",
   "name": "ai4mc-ds-dev-env"
  },
  "language_info": {
   "codemirror_mode": {
    "name": "ipython",
    "version": 3
   },
   "file_extension": ".py",
   "mimetype": "text/x-python",
   "name": "python",
   "nbconvert_exporter": "python",
   "pygments_lexer": "ipython3",
   "version": "3.8.8"
  },
  "toc": {
   "base_numbering": 1,
   "nav_menu": {},
   "number_sections": true,
   "sideBar": true,
   "skip_h1_title": false,
   "title_cell": "Table of Contents",
   "title_sidebar": "Contents",
   "toc_cell": false,
   "toc_position": {},
   "toc_section_display": true,
   "toc_window_display": false
  }
 },
 "nbformat": 4,
 "nbformat_minor": 4
}
